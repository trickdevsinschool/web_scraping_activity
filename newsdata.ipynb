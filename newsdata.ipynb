{
 "cells": [
  {
   "cell_type": "code",
   "execution_count": 23,
   "id": "southwest-semiconductor",
   "metadata": {},
   "outputs": [],
   "source": [
    "#pip install newsapi-python\n",
    "import json\n",
    "from newsapi import NewsApiClient\n",
    "\n",
    "# Init\n",
    "newsapi = NewsApiClient(api_key='b88be56542da4e5eaf33b7b86a326556')\n",
    "\n",
    "articles = newsapi.get_everything(\n",
    "                                      sources='bbc-news',\n",
    "                                      from_param='2021-03-11',\n",
    "                                      to='2021-03-12',\n",
    "                                      language='en',\n",
    "                                      sort_by='relevancy',\n",
    "                                      page=1)\n",
    "\n",
    "with open('newsjson.txt', 'w') as outfile:\n",
    "    json.dump(articles, outfile, indent=3)\n"
   ]
  },
  {
   "cell_type": "code",
   "execution_count": null,
   "id": "funny-monthly",
   "metadata": {},
   "outputs": [],
   "source": []
  },
  {
   "cell_type": "code",
   "execution_count": null,
   "id": "described-conducting",
   "metadata": {},
   "outputs": [],
   "source": []
  }
 ],
 "metadata": {
  "kernelspec": {
   "display_name": "Python 3",
   "language": "python",
   "name": "python3"
  },
  "language_info": {
   "codemirror_mode": {
    "name": "ipython",
    "version": 3
   },
   "file_extension": ".py",
   "mimetype": "text/x-python",
   "name": "python",
   "nbconvert_exporter": "python",
   "pygments_lexer": "ipython3",
   "version": "3.9.2"
  }
 },
 "nbformat": 4,
 "nbformat_minor": 5
}
