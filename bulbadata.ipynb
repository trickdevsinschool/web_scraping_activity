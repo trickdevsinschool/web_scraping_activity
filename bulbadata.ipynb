{
 "cells": [
  {
   "cell_type": "code",
   "execution_count": 50,
   "id": "annual-joseph",
   "metadata": {},
   "outputs": [],
   "source": [
    "import requests\n",
    "from bs4 import BeautifulSoup\n",
    "\n",
    "URL=\"https://bulbapedia.bulbagarden.net/wiki/List_of_Pok%C3%A9mon_by_National_Pok%C3%A9dex_number\"\n",
    "\n",
    "page=requests.get(URL)\n",
    "soup = BeautifulSoup(page.content, 'html.parser')"
   ]
  },
  {
   "cell_type": "code",
   "execution_count": 51,
   "id": "absent-printer",
   "metadata": {},
   "outputs": [],
   "source": [
    "poke_content=soup.find(id='mw-content-text')\n",
    "poke_tables=poke_content.find_all('table')\n"
   ]
  },
  {
   "cell_type": "code",
   "execution_count": 52,
   "id": "distinguished-county",
   "metadata": {},
   "outputs": [],
   "source": [
    "gen2_list=poke_tables[2]\n",
    "gen3_list=poke_tables[3]\n",
    "gen4_list=poke_tables[4]\n",
    "gen5_list=poke_tables[5]\n",
    "gen6_list=poke_tables[6]\n",
    "gen7_list=poke_tables[7]\n",
    "gen8_list=poke_tables[8]\n",
    "#gen2_list.contents\n",
    "#gen8_list.contents[3]"
   ]
  },
  {
   "cell_type": "code",
   "execution_count": 53,
   "id": "caroline-frederick",
   "metadata": {
    "tags": []
   },
   "outputs": [],
   "source": [
    "start=3\n",
    "f = open(\"bulbadata.txt\", \"w\")\n",
    "\n",
    "for i in range(start, len(gen2_list.contents), 2):\n",
    "    poke_info=gen2_list.contents[i]\n",
    "    dex=poke_info.contents[1].text.strip()\n",
    "    ndex=poke_info.contents[3].text.strip()\n",
    "    name=poke_info.contents[7].text.strip()\n",
    "    type1=poke_info.contents[9].text.strip()\n",
    "    if len(poke_info.contents) > 10:\n",
    "        type2=poke_info.contents[11].text.strip()\n",
    "        #print(f'JDex: {dex}, NDex: {ndex}  {name} is a {type1} & {type2} Pokemon')\n",
    "        f.write(f'JDex: {dex}, NDex: {ndex}  {name} is a {type1} & {type2} Pokemon\\n')\n",
    "    else:\n",
    "        #print(f'JDex: {dex}, NDex: {ndex}  {name} is a {type1} Pokemon')\n",
    "        f.write(f'JDex: {dex}, NDex: {ndex}  {name} is a {type1} Pokemon\\n')\n",
    "        \n",
    "\n",
    "\n"
   ]
  },
  {
   "cell_type": "code",
   "execution_count": 54,
   "id": "liable-survivor",
   "metadata": {},
   "outputs": [],
   "source": [
    "\n",
    "\n",
    "for i in range(start, len(gen3_list.contents), 2):\n",
    "    poke_info=gen3_list.contents[i]\n",
    "    dex=poke_info.contents[1].text.strip()\n",
    "    ndex=poke_info.contents[3].text.strip()\n",
    "    name=poke_info.contents[7].text.strip()\n",
    "    type1=poke_info.contents[9].text.strip()\n",
    "    if len(poke_info.contents) > 10:\n",
    "        type2=poke_info.contents[11].text.strip()\n",
    "        #print(f'JDex: {dex}, NDex: {ndex}  {name} is a {type1} & {type2} Pokemon')\n",
    "        f.write(f'HDex: {dex}, NDex: {ndex}  {name} is a {type1} & {type2} Pokemon\\n')\n",
    "    else:\n",
    "        #print(f'JDex: {dex}, NDex: {ndex}  {name} is a {type1} Pokemon')\n",
    "        f.write(f'HDex: {dex}, NDex: {ndex}  {name} is a {type1} Pokemon\\n')\n",
    "        \n"
   ]
  },
  {
   "cell_type": "code",
   "execution_count": 55,
   "id": "specific-cooling",
   "metadata": {},
   "outputs": [],
   "source": [
    "\n",
    "\n",
    "for i in range(start, len(gen4_list.contents), 2):\n",
    "    poke_info=gen4_list.contents[i]\n",
    "    dex=poke_info.contents[1].text.strip()\n",
    "    ndex=poke_info.contents[3].text.strip()\n",
    "    name=poke_info.contents[7].text.strip()\n",
    "    type1=poke_info.contents[9].text.strip()\n",
    "    if len(poke_info.contents) > 10:\n",
    "        type2=poke_info.contents[11].text.strip()\n",
    "        #print(f'JDex: {dex}, NDex: {ndex}  {name} is a {type1} & {type2} Pokemon')\n",
    "        f.write(f'SDex: {dex}, NDex: {ndex}  {name} is a {type1} & {type2} Pokemon\\n')\n",
    "    else:\n",
    "        #print(f'JDex: {dex}, NDex: {ndex}  {name} is a {type1} Pokemon')\n",
    "        f.write(f'SDex: {dex}, NDex: {ndex}  {name} is a {type1} Pokemon\\n')\n",
    "        \n"
   ]
  },
  {
   "cell_type": "code",
   "execution_count": 56,
   "id": "handmade-disposal",
   "metadata": {},
   "outputs": [],
   "source": [
    "\n",
    "for i in range(start, len(gen5_list.contents), 2):\n",
    "    poke_info=gen5_list.contents[i]\n",
    "    dex=poke_info.contents[1].text.strip()\n",
    "    ndex=poke_info.contents[3].text.strip()\n",
    "    name=poke_info.contents[7].text.strip()\n",
    "    type1=poke_info.contents[9].text.strip()\n",
    "    if len(poke_info.contents) > 10:\n",
    "        type2=poke_info.contents[11].text.strip()\n",
    "        #print(f'JDex: {dex}, NDex: {ndex}  {name} is a {type1} & {type2} Pokemon')\n",
    "        f.write(f'UDex: {dex}, NDex: {ndex}  {name} is a {type1} & {type2} Pokemon\\n')\n",
    "    else:\n",
    "        #print(f'JDex: {dex}, NDex: {ndex}  {name} is a {type1} Pokemon')\n",
    "        f.write(f'UDex: {dex}, NDex: {ndex}  {name} is a {type1} Pokemon\\n')\n",
    "        \n"
   ]
  },
  {
   "cell_type": "code",
   "execution_count": 57,
   "id": "superb-jason",
   "metadata": {},
   "outputs": [],
   "source": [
    "\n",
    "for i in range(start, len(gen6_list.contents), 2):\n",
    "    poke_info=gen6_list.contents[i]\n",
    "    dex=poke_info.contents[1].text.strip()\n",
    "    ndex=poke_info.contents[3].text.strip()\n",
    "    name=poke_info.contents[7].text.strip()\n",
    "    type1=poke_info.contents[9].text.strip()\n",
    "    if len(poke_info.contents) > 10:\n",
    "        type2=poke_info.contents[11].text.strip()\n",
    "        #print(f'JDex: {dex}, NDex: {ndex}  {name} is a {type1} & {type2} Pokemon')\n",
    "        f.write(f'KDex: {dex}, NDex: {ndex}  {name} is a {type1} & {type2} Pokemon\\n')\n",
    "    else:\n",
    "        #print(f'JDex: {dex}, NDex: {ndex}  {name} is a {type1} Pokemon')\n",
    "        f.write(f'KDex: {dex}, NDex: {ndex}  {name} is a {type1} Pokemon\\n')\n",
    "        \n"
   ]
  },
  {
   "cell_type": "code",
   "execution_count": 58,
   "id": "similar-details",
   "metadata": {},
   "outputs": [],
   "source": [
    "\n",
    "for i in range(start, len(gen7_list.contents), 2):\n",
    "    poke_info=gen7_list.contents[i]\n",
    "    dex=poke_info.contents[1].text.strip()\n",
    "    ndex=poke_info.contents[3].text.strip()\n",
    "    name=poke_info.contents[7].text.strip()\n",
    "    type1=poke_info.contents[9].text.strip()\n",
    "    if len(poke_info.contents) > 10:\n",
    "        type2=poke_info.contents[11].text.strip()\n",
    "        #print(f'JDex: {dex}, NDex: {ndex}  {name} is a {type1} & {type2} Pokemon')\n",
    "        f.write(f'ADex: {dex}, NDex: {ndex}  {name} is a {type1} & {type2} Pokemon\\n')\n",
    "    else:\n",
    "        #print(f'JDex: {dex}, NDex: {ndex}  {name} is a {type1} Pokemon')\n",
    "        f.write(f'ADex: {dex}, NDex: {ndex}  {name} is a {type1} Pokemon\\n')\n",
    "        \n"
   ]
  },
  {
   "cell_type": "code",
   "execution_count": 59,
   "id": "moving-actor",
   "metadata": {},
   "outputs": [],
   "source": [
    "\n",
    "for i in range(start, len(gen8_list.contents), 2):\n",
    "    poke_info=gen8_list.contents[i]\n",
    "    dex=poke_info.contents[1].text.strip()\n",
    "    ndex=poke_info.contents[3].text.strip()\n",
    "    name=poke_info.contents[7].text.strip()\n",
    "    type1=poke_info.contents[9].text.strip()\n",
    "    if len(poke_info.contents) > 10:\n",
    "        type2=poke_info.contents[11].text.strip()\n",
    "        #print(f'JDex: {dex}, NDex: {ndex}  {name} is a {type1} & {type2} Pokemon')\n",
    "        f.write(f'GDex: {dex}, NDex: {ndex}  {name} is a {type1} & {type2} Pokemon\\n')\n",
    "    else:\n",
    "        #print(f'JDex: {dex}, NDex: {ndex}  {name} is a {type1} Pokemon')\n",
    "        f.write(f'GDex: {dex}, NDex: {ndex}  {name} is a {type1} Pokemon\\n')\n",
    "        \n",
    "f.close()"
   ]
  },
  {
   "cell_type": "code",
   "execution_count": null,
   "id": "handy-weapon",
   "metadata": {},
   "outputs": [],
   "source": []
  }
 ],
 "metadata": {
  "kernelspec": {
   "display_name": "Python 3",
   "language": "python",
   "name": "python3"
  },
  "language_info": {
   "codemirror_mode": {
    "name": "ipython",
    "version": 3
   },
   "file_extension": ".py",
   "mimetype": "text/x-python",
   "name": "python",
   "nbconvert_exporter": "python",
   "pygments_lexer": "ipython3",
   "version": "3.9.2"
  }
 },
 "nbformat": 4,
 "nbformat_minor": 5
}
